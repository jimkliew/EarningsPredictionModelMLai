{
 "cells": [
  {
   "cell_type": "code",
   "execution_count": 2,
   "metadata": {
    "collapsed": false
   },
   "outputs": [],
   "source": [
    "import pandas as pd\n",
    "import numpy as np\n",
    "import os\n",
    "import json"
   ]
  },
  {
   "cell_type": "code",
   "execution_count": 3,
   "metadata": {
    "collapsed": false
   },
   "outputs": [
    {
     "data": {
      "text/plain": [
       "'C:\\\\Carey_doc\\\\Code_Test\\\\FintechAI'"
      ]
     },
     "execution_count": 3,
     "metadata": {},
     "output_type": "execute_result"
    }
   ],
   "source": [
    "pwd"
   ]
  },
  {
   "cell_type": "code",
   "execution_count": 4,
   "metadata": {
    "collapsed": false
   },
   "outputs": [],
   "source": [
    "pwd = os.getcwd()\n",
    "#df = pd.read_csv(pwd+'/stocktwits_messages_2017_02.csv')\n",
    "with open(\"test.json\",'r') as json_file:\n",
    "    json_data = json.load(json_file)"
   ]
  },
  {
   "cell_type": "code",
   "execution_count": 5,
   "metadata": {
    "collapsed": false
   },
   "outputs": [
    {
     "name": "stdout",
     "output_type": "stream",
     "text": [
      "data:  {'body': '@succesfultraderJNUGis30 @SuccessfultraderJNUGis29 I feel like I&#39;ve heard of a golden calf story somewhere...', 'created_at': '2017-02-28T23:59:51Z', 'id': 75825299, 'mentioned_users': ['@succesfultraderJNUGis30', '@SuccessfultraderJNUGis29'], 'entities': {'sentiment': None}, 'user': {'username': 'CodyGrant', 'trading_strategy': {'approach': 'Technical', 'experience': 'Intermediate', 'holding_period': 'Swing Trader', 'assets_frequently_traded': ['Equities']}, 'website_url': 'https://tradingthinktank.slack.com', 'official': False, 'id': 827687, 'classification': [], 'ideas': 1614, 'avatar_url_ssl': 'https://avatars.stocktwits.com/production/827687/thumb-1490392941.png', 'subscribed_to_count': 6, 'name': 'Cody', 'location': 'DFW', 'avatar_url': 'https://avatars.stocktwits.com/production/827687/thumb-1490392941.png', 'like_count': 1860, 'watchlist_stocks_count': None, 'subscribers_count': 4, 'bio': 'I believe that collaboration is greater than competition. I want to see us all do well. I mainly focus on 3x leveraged inverse commodity ETFs. We&#39;ve got a great trading (free) Slack channel @Tradingthinktank, message me if you would like an invite', 'followers': 45, 'following_stocks': 0, 'identity': 'User', 'following': 131, 'join_date': '2016-08-25'}, 'reshares': {'user_ids': [], 'reshared_count': 0}, 'source': {'url': 'http://www.stocktwits.com/mobile', 'id': 1149, 'title': 'StockTwits for iOS'}, 'conversation': {'replies': 5, 'parent_message_id': 75824340, 'in_reply_to_message_id': 75824775, 'parent': False}}\n",
      "time:  2017-02-28T23:59:51Z\n",
      "action:  create\n",
      "object:  Message\n"
     ]
    }
   ],
   "source": [
    "for k in json_data.keys():\n",
    "    print(k + ': ', json_data[k])"
   ]
  },
  {
   "cell_type": "markdown",
   "metadata": {},
   "source": [
    "# Message Backup File"
   ]
  },
  {
   "cell_type": "code",
   "execution_count": 7,
   "metadata": {
    "collapsed": false
   },
   "outputs": [
    {
     "name": "stdout",
     "output_type": "stream",
     "text": [
      "data:  {'body': '@gotgains @michaelmcl Not guaranteed to happen but reverse split is a possibility. It&#39;s also mentioned by CFO in our conversation.', 'created_at': '2017-01-01T00:00:00Z', 'id': 70630178, 'mentioned_users': ['@gotgains', '@michaelmcl'], 'entities': {'sentiment': None}, 'user': {'username': 'nvok', 'trading_strategy': {'approach': 'Growth', 'experience': None, 'holding_period': 'Position Trader', 'assets_frequently_traded': []}, 'website_url': 'http://blog.stocktwits.com/the-2016-december-fantasy-stock-picking-contest', 'official': False, 'id': 818499, 'classification': [], 'ideas': 1863, 'avatar_url_ssl': 'https://avatars.stocktwits.com/production/818499/thumb-1480732347.png', 'subscribed_to_count': 1, 'name': 'nvok', 'location': 'United States', 'avatar_url': 'https://avatars.stocktwits.com/production/818499/thumb-1480732347.png', 'like_count': 23, 'watchlist_stocks_count': None, 'subscribers_count': 132, 'bio': 'Sales director working for one of the top multinational corporations in the world. Contrarian investor. 2016 December Fantasy Stock Picking Contest Winner http://blog.stocktwits.com/the-2016-december-fantasy-stock-picking-contest', 'followers': 696, 'following_stocks': 0, 'identity': 'User', 'following': 65, 'join_date': '2016-08-12'}, 'reshares': {'user_ids': [], 'reshared_count': 0}, 'source': {'url': 'http://stocktwits.com', 'id': 1, 'title': 'StockTwits'}, 'conversation': {'replies': 8, 'parent_message_id': 70521534, 'in_reply_to_message_id': 70629566, 'parent': False}}\n",
      "time:  2017-01-01T00:00:00Z\n",
      "action:  create\n",
      "object:  Message\n",
      "data:  {'body': '@J457 shale supply is overrated. Also they are finding out that some water supplies are getting contaminated. Oil will be back to 70 summer', 'created_at': '2017-01-01T00:00:15Z', 'id': 70630179, 'mentioned_users': ['@J457'], 'entities': {'sentiment': {'basic': 'Bullish'}}, 'user': {'username': 'Canudigit', 'trading_strategy': {'approach': None, 'experience': None, 'holding_period': None, 'assets_frequently_traded': []}, 'website_url': None, 'official': False, 'id': 900446, 'classification': [], 'ideas': 12, 'avatar_url_ssl': 'https://s3.amazonaws.com/st-avatars/images/default_avatar_thumb.jpg', 'subscribed_to_count': 0, 'name': 'Ference Kurfis', 'location': None, 'avatar_url': 'http://avatars.stocktwits.com/images/default_avatar_thumb.jpg', 'like_count': 0, 'watchlist_stocks_count': None, 'subscribers_count': 0, 'bio': None, 'followers': 1, 'following_stocks': 0, 'identity': 'User', 'following': 59, 'join_date': '2016-12-12'}, 'reshares': {'user_ids': [], 'reshared_count': 0}, 'source': {'url': 'http://stocktwits.com', 'id': 1, 'title': 'StockTwits'}, 'conversation': {'replies': 9, 'parent_message_id': 70428767, 'in_reply_to_message_id': 70571914, 'parent': False}}\n",
      "time:  2017-01-01T00:00:15Z\n",
      "action:  create\n",
      "object:  Message\n",
      "data:  {'body': '@rodneystanger Neovasc had a tough year with lawsuit.  Thats behind us now. If we win fast track appeal we see 8. Watch us back to 4 by mnth', 'created_at': '2017-01-01T00:00:15Z', 'id': 70630180, 'mentioned_users': ['@rodneystanger'], 'entities': {'sentiment': None}, 'user': {'username': 'Fixafoot', 'trading_strategy': {'approach': 'Momentum', 'experience': 'Intermediate', 'holding_period': 'Swing Trader', 'assets_frequently_traded': ['Equities']}, 'website_url': None, 'official': False, 'id': 327622, 'classification': [], 'ideas': 2512, 'avatar_url_ssl': 'https://avatars.stocktwits.com/production/327622/thumb-1468202554.png', 'subscribed_to_count': 6, 'name': 'Mark Freiser', 'location': 'Hollywood Fl', 'avatar_url': 'https://avatars.stocktwits.com/production/327622/thumb-1468202554.png', 'like_count': 70, 'watchlist_stocks_count': None, 'subscribers_count': 1, 'bio': None, 'followers': 46, 'following_stocks': 0, 'identity': 'User', 'following': 145, 'join_date': '2014-03-11'}, 'reshares': {'user_ids': [], 'reshared_count': 0}, 'network': {'twitter': {'id': '815346919505534976'}}, 'source': {'url': 'http://stocktwits.com', 'id': 1, 'title': 'StockTwits'}, 'conversation': {'replies': 14, 'parent_message_id': 70625620, 'in_reply_to_message_id': 70625620, 'parent': False}}\n",
      "time:  2017-01-01T00:00:15Z\n",
      "action:  create\n",
      "object:  Message\n",
      "data:  {'body': '@SpecWreck I was on call. Talked to several funds. You&#39;re full of it.', 'created_at': '2017-01-01T00:00:15Z', 'id': 70630181, 'mentioned_users': ['@SpecWreck'], 'entities': {'sentiment': None}, 'user': {'username': 'MTN', 'trading_strategy': {'approach': None, 'experience': None, 'holding_period': None, 'assets_frequently_traded': []}, 'website_url': None, 'official': False, 'id': 314137, 'classification': [], 'ideas': 6740, 'avatar_url_ssl': 'https://s3.amazonaws.com/st-avatars/images/default_avatar_thumb.jpg', 'subscribed_to_count': 0, 'name': 'MT', 'location': None, 'avatar_url': 'http://avatars.stocktwits.com/images/default_avatar_thumb.jpg', 'like_count': 752, 'watchlist_stocks_count': None, 'subscribers_count': 2, 'bio': None, 'followers': 50, 'following_stocks': 0, 'identity': 'User', 'following': 3, 'join_date': '2014-02-13'}, 'reshares': {'user_ids': [], 'reshared_count': 0}, 'source': {'url': 'http://www.stocktwits.com/mobile', 'id': 2095, 'title': 'StockTwits For Android '}, 'conversation': {'replies': 0, 'parent_message_id': 70628450, 'in_reply_to_message_id': 70628450, 'parent': False}}\n",
      "time:  2017-01-01T00:00:15Z\n",
      "action:  create\n",
      "object:  Message\n",
      "data:  {'body': '@Dig4Gold Bitcoin is a beast #Beastmode', 'created_at': '2017-01-01T00:00:31Z', 'id': 70630182, 'mentioned_users': ['@Dig4Gold'], 'entities': {'sentiment': None}, 'user': {'username': 'HeatSeeker777', 'trading_strategy': {'approach': 'Fundamental', 'experience': None, 'holding_period': 'Long Term Investor', 'assets_frequently_traded': []}, 'website_url': None, 'official': False, 'id': 850285, 'classification': [], 'ideas': 1650, 'avatar_url_ssl': 'https://avatars.stocktwits.com/production/850285/thumb-1475867024.png', 'subscribed_to_count': 0, 'name': 'Stock Hunter', 'location': '', 'avatar_url': 'https://avatars.stocktwits.com/production/850285/thumb-1475867024.png', 'like_count': 66, 'watchlist_stocks_count': None, 'subscribers_count': 1, 'bio': 'I don&#39;t know squat :)', 'followers': 9, 'following_stocks': 0, 'identity': 'User', 'following': 68, 'join_date': '2016-09-29'}, 'reshares': {'user_ids': [], 'reshared_count': 0}, 'source': {'url': 'http://stocktwits.com', 'id': 1, 'title': 'StockTwits'}, 'conversation': {'replies': 0, 'parent_message_id': 70629551, 'in_reply_to_message_id': 70629551, 'parent': False}}\n",
      "time:  2017-01-01T00:00:31Z\n",
      "action:  create\n",
      "object:  Message\n",
      "data:  {'body': '@StocksResearch Very True. Figure traders took off for holiday weekend. Prices then sagged. IMHO.', 'created_at': '2017-01-01T00:00:43Z', 'id': 70630183, 'mentioned_users': ['@StocksResearch'], 'entities': {'sentiment': {'basic': 'Bullish'}}, 'user': {'username': 'NCharles', 'trading_strategy': {'approach': None, 'experience': None, 'holding_period': None, 'assets_frequently_traded': []}, 'website_url': None, 'official': False, 'id': 792189, 'classification': [], 'ideas': 1024, 'avatar_url_ssl': 'https://avatars.stocktwits.com/production/792189/thumb-1483716014.png', 'subscribed_to_count': 0, 'name': 'Nick Charles', 'location': 'NY', 'avatar_url': 'https://avatars.stocktwits.com/production/792189/thumb-1483716014.png', 'like_count': 1142, 'watchlist_stocks_count': None, 'subscribers_count': 4, 'bio': 'Iam room temperature.', 'followers': 22, 'following_stocks': 0, 'identity': 'User', 'following': 71, 'join_date': '2016-07-11'}, 'reshares': {'user_ids': [], 'reshared_count': 0}, 'source': {'url': 'http://stocktwits.com', 'id': 1, 'title': 'StockTwits'}, 'conversation': {'replies': 1, 'parent_message_id': 70630073, 'in_reply_to_message_id': 70630138, 'parent': False}}\n",
      "time:  2017-01-01T00:00:43Z\n",
      "action:  create\n",
      "object:  Message\n",
      "data:  {'body': '@RonSmithson  some will next week and you know it.', 'created_at': '2017-01-01T00:00:42Z', 'id': 70630184, 'mentioned_users': ['@RonSmithson'], 'entities': {'sentiment': None}, 'user': {'username': 'ccledez', 'trading_strategy': {'approach': None, 'experience': None, 'holding_period': None, 'assets_frequently_traded': []}, 'website_url': None, 'official': False, 'id': 680908, 'classification': [], 'ideas': 2229, 'avatar_url_ssl': 'https://avatars.stocktwits.com/production/680908/thumb-1454387334.png', 'subscribed_to_count': 0, 'name': 'ccledez', 'location': 'Los Angeles, CA', 'avatar_url': 'https://avatars.stocktwits.com/production/680908/thumb-1454387334.png', 'like_count': 1, 'watchlist_stocks_count': None, 'subscribers_count': 6, 'bio': 'Swing Trader, straight up! 2016 yearly win +32% 2017 ytd +33% (3/15/17) I lose sometimes. But I win way more than I lose. I trade everything. But usually stick to my personalized list of 40 stocks.', 'followers': 56, 'following_stocks': 0, 'identity': 'User', 'following': 7, 'join_date': '2016-02-01'}, 'reshares': {'user_ids': [], 'reshared_count': 0}, 'source': {'url': 'http://www.stocktwits.com/mobile', 'id': 2095, 'title': 'StockTwits For Android '}, 'conversation': {'replies': 1, 'parent_message_id': 70618355, 'in_reply_to_message_id': 70621152, 'parent': False}}\n",
      "time:  2017-01-01T00:00:42Z\n",
      "action:  create\n",
      "object:  Message\n",
      "data:  {'mentioned_users': ['@markusduvall', '@JorelLaraKalel', '@wingstop'], 'body': '@markusduvall @JorelLaraKalel @wingstop Tilson is like 9-12 in his last Robinhood picks. $WING is overvalued', 'entities': {'sentiment': None}, 'created_at': '2017-01-01T00:00:55Z', 'id': 70630185, 'symbols': [{'trending': False, 'is_following': False, 'symbol': 'WING', 'sector': None, 'id': 12604, 'title': 'Wingstop', 'exchange': 'NASDAQ', 'logo_url': 'http://logos.xignite.com/NASDAQGS/00086392.gif', 'watchlist_count': 870, 'trending_score': 3.16951, 'industry': None}], 'conversation': {'replies': 1, 'parent_message_id': 70628755, 'in_reply_to_message_id': 70629544, 'parent': False}, 'user': {'username': 'sabin33', 'trading_strategy': {'approach': 'Value', 'experience': 'Novice', 'holding_period': 'Swing Trader', 'assets_frequently_traded': ['Equities']}, 'website_url': None, 'official': False, 'id': 221619, 'classification': [], 'ideas': 5517, 'avatar_url_ssl': 'https://avatars.stocktwits.com/production/221619/thumb-1407015779.png', 'subscribed_to_count': 0, 'name': 'thomas', 'location': '', 'avatar_url': 'https://avatars.stocktwits.com/production/221619/thumb-1407015779.png', 'like_count': 9263, 'watchlist_stocks_count': None, 'subscribers_count': 2, 'bio': 'trying to call tops and bottoms and find the elusive superstock', 'followers': 106, 'following_stocks': 0, 'identity': 'User', 'following': 201, 'join_date': '2013-03-19'}, 'reshares': {'user_ids': [], 'reshared_count': 0}, 'source': {'url': 'http://stocktwits.com', 'id': 1, 'title': 'StockTwits'}, 'prices': [{'symbol': 'WING', 'id': 12604, 'price': '29.59'}]}\n",
      "time:  2017-01-01T00:00:55Z\n",
      "action:  create\n",
      "object:  Message\n",
      "data:  {'body': '@BlackBox2  hellz yea going naked...short', 'created_at': '2017-01-01T00:00:57Z', 'id': 70630186, 'mentioned_users': ['@BlackBox2'], 'entities': {'sentiment': None}, 'user': {'username': 'MailbbxMoney', 'trading_strategy': {'approach': None, 'experience': None, 'holding_period': None, 'assets_frequently_traded': []}, 'website_url': None, 'official': False, 'id': 784929, 'classification': [], 'ideas': 667, 'avatar_url_ssl': 'https://avatars.stocktwits.com/production/784929/thumb-1481423255.png', 'subscribed_to_count': 5, 'name': 'MailbbxMoney', 'location': None, 'avatar_url': 'https://avatars.stocktwits.com/production/784929/thumb-1481423255.png', 'like_count': 1012, 'watchlist_stocks_count': None, 'subscribers_count': 7, 'bio': 'Engineer by trade, day trade by day. #kiss #Blackboxstocks #staygreen Taking back my retirement V2.5', 'followers': 53, 'following_stocks': 0, 'identity': 'User', 'following': 140, 'join_date': '2016-06-30'}, 'reshares': {'user_ids': [], 'reshared_count': 0}, 'source': {'url': 'http://www.stocktwits.com/mobile', 'id': 2095, 'title': 'StockTwits For Android '}, 'conversation': {'replies': 6, 'parent_message_id': 70627680, 'in_reply_to_message_id': 70629409, 'parent': False}}\n",
      "time:  2017-01-01T00:00:57Z\n",
      "action:  create\n",
      "object:  Message\n",
      "data:  {'body': '@tob999 @mikemurphy I remember this from 2014. See footnotes section. Author is consultant to Google, Insuline, Roche, Sanofi, and Voluntis.', 'created_at': '2017-01-01T00:01:04Z', 'id': 70630187, 'mentioned_users': ['@tob999', '@mikemurphy'], 'entities': {'sentiment': None}, 'user': {'username': 'BullMarket75', 'trading_strategy': {'approach': 'Growth', 'experience': 'Intermediate', 'holding_period': 'Swing Trader', 'assets_frequently_traded': ['Equities']}, 'website_url': None, 'official': False, 'id': 300323, 'classification': [], 'ideas': 4699, 'avatar_url_ssl': 'https://avatars.stocktwits.com/production/300323/thumb-1389657924.png', 'subscribed_to_count': 5, 'name': 'Matt', 'location': '', 'avatar_url': 'https://avatars.stocktwits.com/production/300323/thumb-1389657924.png', 'like_count': 3489, 'watchlist_stocks_count': None, 'subscribers_count': 0, 'bio': None, 'followers': 39, 'following_stocks': 0, 'identity': 'User', 'following': 75, 'join_date': '2014-01-13'}, 'reshares': {'user_ids': [], 'reshared_count': 0}, 'source': {'url': 'http://www.stocktwits.com/mobile', 'id': 1149, 'title': 'StockTwits for iOS'}, 'conversation': {'replies': 2, 'parent_message_id': 70624293, 'in_reply_to_message_id': 70625692, 'parent': False}}\n",
      "time:  2017-01-01T00:01:04Z\n",
      "action:  create\n",
      "object:  Message\n",
      "data:  {'mentioned_users': [], 'body': '$idra can you believe the nerve of management to steal from investors just to fund their lifestyles', 'created_at': '2017-01-01T00:01:12Z', 'id': 70630188, 'symbols': [{'trending': False, 'is_following': False, 'symbol': 'IDRA', 'sector': 'Healthcare', 'id': 2242, 'title': 'Idera Pharmaceuticals, Inc.', 'exchange': 'NASDAQ', 'logo_url': 'http://logos.xignite.com/NASDAQGM/00046519.gif', 'watchlist_count': 6820, 'trending_score': -1.46621, 'industry': 'Biotechnology'}], 'entities': {'sentiment': None}, 'user': {'username': 'SnEaKy_DNA', 'trading_strategy': {'approach': None, 'experience': None, 'holding_period': None, 'assets_frequently_traded': []}, 'website_url': None, 'official': False, 'id': 794512, 'classification': [], 'ideas': 1490, 'avatar_url_ssl': 'https://avatars.stocktwits.com/production/794512/thumb-1481597818.png', 'subscribed_to_count': 0, 'name': 'Money Dude...Money', 'location': '', 'avatar_url': 'https://avatars.stocktwits.com/production/794512/thumb-1481597818.png', 'like_count': 101, 'watchlist_stocks_count': None, 'subscribers_count': 4, 'bio': '-Self Made -Strong enough purpose and motivation not needed -Fearless but humble -Think big -Live big -You can have it it you want it bad enough -Follow your dream, and your gut', 'followers': 28, 'following_stocks': 0, 'identity': 'User', 'following': 1, 'join_date': '2016-07-13'}, 'reshares': {'user_ids': [], 'reshared_count': 0}, 'source': {'url': 'http://stocktwits.com', 'id': 1, 'title': 'StockTwits'}, 'prices': [{'symbol': 'IDRA', 'id': 2242, 'price': '1.50'}]}\n",
      "time:  2017-01-01T00:01:12Z\n",
      "action:  create\n",
      "object:  Message\n"
     ]
    }
   ],
   "source": [
    "#check multiple records, have to use utf-8 format in Windows, but no need on Mac.\n",
    "i=0\n",
    "with open(pwd+'/stocktwits_messages_2017_01', encoding='utf-8', mode='r') as f:\n",
    "    for line in f:\n",
    "        json_data = json.loads(line)\n",
    "        for k in json_data.keys():\n",
    "            print(k + ': ', json_data[k])\n",
    "        i+=1\n",
    "        if (i>10): #check 10 records first\n",
    "            break\n",
    "        "
   ]
  },
  {
   "cell_type": "code",
   "execution_count": 8,
   "metadata": {
    "collapsed": false
   },
   "outputs": [],
   "source": [
    "# Another way to read the whole file into memory\n",
    "f= open(pwd+'/stocktwits_messages_2017_01', encoding='utf-8', mode='r')\n",
    "lines = f.readlines()\n",
    "#text = f.read()\n",
    "f.close()"
   ]
  },
  {
   "cell_type": "code",
   "execution_count": 9,
   "metadata": {
    "collapsed": false
   },
   "outputs": [
    {
     "data": {
      "text/plain": [
       "2519292"
      ]
     },
     "execution_count": 9,
     "metadata": {},
     "output_type": "execute_result"
    }
   ],
   "source": [
    "#one line per json file, so totally 2519292 json files in stocktwits_messages_2017_01\n",
    "len(lines)\n"
   ]
  },
  {
   "cell_type": "code",
   "execution_count": 13,
   "metadata": {
    "collapsed": false
   },
   "outputs": [
    {
     "data": {
      "text/plain": [
       "'{\"object\":\"Message\",\"action\":\"create\",\"data\":{\"id\":73207609,\"body\":\"Insider Selling in $MTB. Jones Rene F sells $302k - Avg price of $164.04. Learn more at https://insidersense.com. Free insider newsletter\",\"created_at\":\"2017-01-31T23:59:54Z\",\"user\":{\"id\":629164,\"username\":\"insidersense\",\"name\":\"insidersense\",\"avatar_url\":\"https://avatars.stocktwits.com/production/629164/thumb-1454020760.png\",\"avatar_url_ssl\":\"https://avatars.stocktwits.com/production/629164/thumb-1454020760.png\",\"join_date\":\"2015-11-06\",\"official\":false,\"identity\":\"User\",\"classification\":[],\"followers\":426,\"following\":571,\"ideas\":15974,\"watchlist_stocks_count\":null,\"like_count\":52,\"subscribers_count\":21,\"subscribed_to_count\":0,\"following_stocks\":0,\"location\":\"North America\",\"bio\":\"#1 insider newsletter, avg return +18%. Subscribe for free at our website. #1 source for insider info Canada/US. Trusted by 5k members. Don&#39;t follow the forecast. #FollowTheFacts\",\"website_url\":\"https://insidersense.com\",\"trading_strategy\":{\"assets_frequently_traded\":[\"Equities\",\"Options\"],\"approach\":null,\"holding_period\":null,\"experience\":null}},\"source\":{\"id\":2952,\"title\":\"InsiderSense\",\"url\":\"https://insidersense.com\"},\"symbols\":[{\"id\":6387,\"symbol\":\"MTB\",\"title\":\"M&T Bank Corp.\",\"is_following\":false,\"exchange\":\"NYSE\",\"sector\":\"Financial\",\"industry\":\"Regional - Northeast Banks\",\"logo_url\":\"http://logos.xignite.com/NYSE/00005964.gif\",\"trending\":false,\"trending_score\":-1.06081,\"watchlist_count\":197}],\"prices\":[{\"id\":6387,\"symbol\":\"MTB\",\"price\":\"162.57\"}],\"links\":[{\"title\":\"InsiderSense | Trade like an Insider\",\"url\":\"https://insidersense.com\",\"shortened_url\":\"https://insidersense.com\",\"shortened_expanded_url\":\"insidersense.com\",\"description\":\"Our platform lets you know who the successful insiders are, what stocks they are buying and selling, and what stocks you should follow. Track both US & Canadian equities!\",\"image\":\"https://insidersense.com/img/buffett-810f7be572.png\",\"created_at\":\"2017-02-01T00:00:35Z\",\"video_url\":null,\"source\":{\"name\":\"Insidersense\",\"website\":\"https://insidersense.com\"}}],\"reshares\":{\"reshared_count\":0,\"user_ids\":[]},\"mentioned_users\":[],\"entities\":{\"sentiment\":null}},\"time\":\"2017-01-31T23:59:54Z\"}\\n'"
      ]
     },
     "execution_count": 13,
     "metadata": {},
     "output_type": "execute_result"
    }
   ],
   "source": [
    "lines[-1]"
   ]
  },
  {
   "cell_type": "code",
   "execution_count": 143,
   "metadata": {
    "collapsed": false
   },
   "outputs": [
    {
     "name": "stdout",
     "output_type": "stream",
     "text": [
      "data:  {'mentioned_users': [], 'body': 'Insider Selling in $MTB. Jones Rene F sells $302k - Avg price of $164.04. Learn more at https://insidersense.com. Free insider newsletter', 'created_at': '2017-01-31T23:59:54Z', 'id': 73207609, 'links': [{'created_at': '2017-02-01T00:00:35Z', 'description': 'Our platform lets you know who the successful insiders are, what stocks they are buying and selling, and what stocks you should follow. Track both US & Canadian equities!', 'title': 'InsiderSense | Trade like an Insider', 'url': 'https://insidersense.com', 'shortened_url': 'https://insidersense.com', 'image': 'https://insidersense.com/img/buffett-810f7be572.png', 'shortened_expanded_url': 'insidersense.com', 'source': {'website': 'https://insidersense.com', 'name': 'Insidersense'}, 'video_url': None}], 'symbols': [{'trending': False, 'is_following': False, 'symbol': 'MTB', 'sector': 'Financial', 'id': 6387, 'title': 'M&T Bank Corp.', 'exchange': 'NYSE', 'logo_url': 'http://logos.xignite.com/NYSE/00005964.gif', 'watchlist_count': 197, 'trending_score': -1.06081, 'industry': 'Regional - Northeast Banks'}], 'entities': {'sentiment': None}, 'user': {'username': 'insidersense', 'trading_strategy': {'approach': None, 'experience': None, 'holding_period': None, 'assets_frequently_traded': ['Equities', 'Options']}, 'website_url': 'https://insidersense.com', 'official': False, 'id': 629164, 'classification': [], 'ideas': 15974, 'avatar_url_ssl': 'https://avatars.stocktwits.com/production/629164/thumb-1454020760.png', 'subscribed_to_count': 0, 'name': 'insidersense', 'location': 'North America', 'avatar_url': 'https://avatars.stocktwits.com/production/629164/thumb-1454020760.png', 'like_count': 52, 'watchlist_stocks_count': None, 'subscribers_count': 21, 'bio': '#1 insider newsletter, avg return +18%. Subscribe for free at our website. #1 source for insider info Canada/US. Trusted by 5k members. Don&#39;t follow the forecast. #FollowTheFacts', 'followers': 426, 'following_stocks': 0, 'identity': 'User', 'following': 571, 'join_date': '2015-11-06'}, 'reshares': {'user_ids': [], 'reshared_count': 0}, 'source': {'url': 'https://insidersense.com', 'id': 2952, 'title': 'InsiderSense'}, 'prices': [{'symbol': 'MTB', 'id': 6387, 'price': '162.57'}]}\n",
      "time:  2017-01-31T23:59:54Z\n",
      "action:  create\n",
      "object:  Message\n"
     ]
    }
   ],
   "source": [
    "# Message object format: https://firestream-portal.stocktwits.com/documentation/stream#Message\n",
    "\n",
    "json_data = json.loads(lines[-1])\n",
    "for k in json_data.keys():\n",
    "    print(k + ': ', json_data[k])"
   ]
  },
  {
   "cell_type": "code",
   "execution_count": 146,
   "metadata": {
    "collapsed": false
   },
   "outputs": [
    {
     "name": "stdout",
     "output_type": "stream",
     "text": [
      "629164\n",
      "2017-01-31T23:59:54Z\n",
      "<class 'dict_keys'>\n",
      "None\n",
      "162.57\n"
     ]
    }
   ],
   "source": [
    "#json_data['data']['mentioned_users'][1]\n",
    "#json_data['data']['symbols'][0]['symbol']\n",
    "print(json_data['data']['user']['id'])\n",
    "print(json_data['data']['created_at'])\n",
    "print(type(json_data['data'].keys()))\n",
    "print(json_data['data']['entities']['sentiment'])\n",
    "print(json_data['data']['prices'][0]['price'])"
   ]
  },
  {
   "cell_type": "code",
   "execution_count": 183,
   "metadata": {
    "collapsed": false
   },
   "outputs": [],
   "source": [
    "# Extract message with sentiment and related symbols!\n",
    "column_names = ['user_id', 'created_at', 'symbol', 'sentiment']\n",
    "data = []\n",
    "for i in range(0,len(lines)):\n",
    "#for i in range(0, 1000):\n",
    "    row = []\n",
    "    json_data = json.loads(lines[i])\n",
    "#    print('record ' + str(i) + ' '+str(json_data['data']['entities']['sentiment']) +'\\n')\n",
    "    if(json_data['data']['entities']['sentiment']!=None):\n",
    "        if 'symbols' in json_data['data'].keys():\n",
    "            for j in range(0,(len(json_data['data']['symbols']))): #one user make mention more than one stock in the message\n",
    "                #print(i, ' ', j,' ',len(json_data['data']['symbols']), ' ', len(json_data['data']['prices']))\n",
    "                row = [json_data['data']['user']['id'], \n",
    "                       json_data['data']['created_at'], \n",
    "                       json_data['data']['symbols'][j]['symbol'], \n",
    "                       #json_data['data']['prices'][j]['price'], #price symbol number may be different than symbols list number!\n",
    "                       json_data['data']['entities']['sentiment']['basic']\n",
    "                      ]\n",
    "                data.append(row)\n",
    "        else:\n",
    "            row = [json_data['data']['user']['id'], \n",
    "                   json_data['data']['created_at'], \n",
    "                   None, \n",
    "                   #None,\n",
    "                   json_data['data']['entities']['sentiment']['basic']\n",
    "                  ]\n",
    "            data.append(row)\n"
   ]
  },
  {
   "cell_type": "code",
   "execution_count": 190,
   "metadata": {
    "collapsed": false
   },
   "outputs": [
    {
     "data": {
      "text/plain": [
       "[[900446, '2017-01-01T00:00:15Z', None, 'Bullish'],\n",
       " [792189, '2017-01-01T00:00:43Z', None, 'Bullish'],\n",
       " [632501, '2017-01-01T00:01:43Z', 'ICLD', 'Bearish'],\n",
       " [890926, '2017-01-01T00:02:47Z', 'HRTX', 'Bullish'],\n",
       " [688919, '2017-01-01T00:04:31Z', None, 'Bullish'],\n",
       " [892142, '2017-01-01T00:05:28Z', None, 'Bullish'],\n",
       " [724935, '2017-01-01T00:06:13Z', None, 'Bullish'],\n",
       " [866123, '2017-01-01T00:06:21Z', None, 'Bullish'],\n",
       " [634366, '2017-01-01T00:07:07Z', None, 'Bullish'],\n",
       " [866123, '2017-01-01T00:07:29Z', None, 'Bearish']]"
      ]
     },
     "execution_count": 190,
     "metadata": {},
     "output_type": "execute_result"
    }
   ],
   "source": [
    "data[0:10]"
   ]
  },
  {
   "cell_type": "code",
   "execution_count": 185,
   "metadata": {
    "collapsed": false
   },
   "outputs": [
    {
     "name": "stdout",
     "output_type": "stream",
     "text": [
      "(696564, 4)\n"
     ]
    }
   ],
   "source": [
    "import pandas as pd\n",
    "\n",
    "stocktwit_df = pd.DataFrame(data, columns=column_names)\n",
    "print(stocktwit_df.shape)"
   ]
  },
  {
   "cell_type": "code",
   "execution_count": 194,
   "metadata": {
    "collapsed": false
   },
   "outputs": [
    {
     "data": {
      "text/html": [
       "<div>\n",
       "<table border=\"1\" class=\"dataframe\">\n",
       "  <thead>\n",
       "    <tr style=\"text-align: right;\">\n",
       "      <th></th>\n",
       "      <th>user_id</th>\n",
       "      <th>created_at</th>\n",
       "      <th>symbol</th>\n",
       "      <th>sentiment</th>\n",
       "    </tr>\n",
       "  </thead>\n",
       "  <tbody>\n",
       "    <tr>\n",
       "      <th>0</th>\n",
       "      <td>900446</td>\n",
       "      <td>2017-01-01T00:00:15Z</td>\n",
       "      <td>None</td>\n",
       "      <td>Bullish</td>\n",
       "    </tr>\n",
       "    <tr>\n",
       "      <th>1</th>\n",
       "      <td>792189</td>\n",
       "      <td>2017-01-01T00:00:43Z</td>\n",
       "      <td>None</td>\n",
       "      <td>Bullish</td>\n",
       "    </tr>\n",
       "    <tr>\n",
       "      <th>2</th>\n",
       "      <td>632501</td>\n",
       "      <td>2017-01-01T00:01:43Z</td>\n",
       "      <td>ICLD</td>\n",
       "      <td>Bearish</td>\n",
       "    </tr>\n",
       "    <tr>\n",
       "      <th>3</th>\n",
       "      <td>890926</td>\n",
       "      <td>2017-01-01T00:02:47Z</td>\n",
       "      <td>HRTX</td>\n",
       "      <td>Bullish</td>\n",
       "    </tr>\n",
       "    <tr>\n",
       "      <th>4</th>\n",
       "      <td>688919</td>\n",
       "      <td>2017-01-01T00:04:31Z</td>\n",
       "      <td>None</td>\n",
       "      <td>Bullish</td>\n",
       "    </tr>\n",
       "    <tr>\n",
       "      <th>5</th>\n",
       "      <td>892142</td>\n",
       "      <td>2017-01-01T00:05:28Z</td>\n",
       "      <td>None</td>\n",
       "      <td>Bullish</td>\n",
       "    </tr>\n",
       "    <tr>\n",
       "      <th>6</th>\n",
       "      <td>724935</td>\n",
       "      <td>2017-01-01T00:06:13Z</td>\n",
       "      <td>None</td>\n",
       "      <td>Bullish</td>\n",
       "    </tr>\n",
       "    <tr>\n",
       "      <th>7</th>\n",
       "      <td>866123</td>\n",
       "      <td>2017-01-01T00:06:21Z</td>\n",
       "      <td>None</td>\n",
       "      <td>Bullish</td>\n",
       "    </tr>\n",
       "    <tr>\n",
       "      <th>8</th>\n",
       "      <td>634366</td>\n",
       "      <td>2017-01-01T00:07:07Z</td>\n",
       "      <td>None</td>\n",
       "      <td>Bullish</td>\n",
       "    </tr>\n",
       "    <tr>\n",
       "      <th>9</th>\n",
       "      <td>866123</td>\n",
       "      <td>2017-01-01T00:07:29Z</td>\n",
       "      <td>None</td>\n",
       "      <td>Bearish</td>\n",
       "    </tr>\n",
       "  </tbody>\n",
       "</table>\n",
       "</div>"
      ],
      "text/plain": [
       "   user_id            created_at symbol sentiment\n",
       "0   900446  2017-01-01T00:00:15Z   None   Bullish\n",
       "1   792189  2017-01-01T00:00:43Z   None   Bullish\n",
       "2   632501  2017-01-01T00:01:43Z   ICLD   Bearish\n",
       "3   890926  2017-01-01T00:02:47Z   HRTX   Bullish\n",
       "4   688919  2017-01-01T00:04:31Z   None   Bullish\n",
       "5   892142  2017-01-01T00:05:28Z   None   Bullish\n",
       "6   724935  2017-01-01T00:06:13Z   None   Bullish\n",
       "7   866123  2017-01-01T00:06:21Z   None   Bullish\n",
       "8   634366  2017-01-01T00:07:07Z   None   Bullish\n",
       "9   866123  2017-01-01T00:07:29Z   None   Bearish"
      ]
     },
     "execution_count": 194,
     "metadata": {},
     "output_type": "execute_result"
    }
   ],
   "source": [
    "stocktwit_df.head(10)\n"
   ]
  },
  {
   "cell_type": "code",
   "execution_count": 193,
   "metadata": {
    "collapsed": false
   },
   "outputs": [
    {
     "name": "stdout",
     "output_type": "stream",
     "text": [
      "<class 'pandas.core.frame.DataFrame'>\n",
      "RangeIndex: 696564 entries, 0 to 696563\n",
      "Data columns (total 4 columns):\n",
      "user_id       696564 non-null int64\n",
      "created_at    696564 non-null object\n",
      "symbol        512758 non-null object\n",
      "sentiment     696564 non-null object\n",
      "dtypes: int64(1), object(3)\n",
      "memory usage: 21.3+ MB\n"
     ]
    }
   ],
   "source": [
    "stocktwit_df.info()"
   ]
  },
  {
   "cell_type": "code",
   "execution_count": 195,
   "metadata": {
    "collapsed": true
   },
   "outputs": [],
   "source": [
    "#convert time format\n",
    "import datetime\n",
    "def parse_full_date(row):\n",
    "    date = datetime.datetime.strptime(row[\"created_at\"], \"%Y-%m-%dT%H:%M:%SZ\")\n",
    "    #time = row[\"time_of_stop\"].split(\":\")\n",
    "    #date = date.replace(hour=int(time[0]), minute = int(time[1]), second = int(time[2]))\n",
    "    return date\n",
    "\n",
    "stocktwit_df[\"created_at\"] = stocktwit_df.apply(parse_full_date, axis=1)"
   ]
  },
  {
   "cell_type": "code",
   "execution_count": 198,
   "metadata": {
    "collapsed": false
   },
   "outputs": [
    {
     "data": {
      "text/html": [
       "<div>\n",
       "<table border=\"1\" class=\"dataframe\">\n",
       "  <thead>\n",
       "    <tr style=\"text-align: right;\">\n",
       "      <th></th>\n",
       "      <th>user_id</th>\n",
       "      <th>created_at</th>\n",
       "      <th>symbol</th>\n",
       "      <th>sentiment</th>\n",
       "    </tr>\n",
       "  </thead>\n",
       "  <tbody>\n",
       "    <tr>\n",
       "      <th>0</th>\n",
       "      <td>900446</td>\n",
       "      <td>2017-01-01 00:00:15</td>\n",
       "      <td>None</td>\n",
       "      <td>Bullish</td>\n",
       "    </tr>\n",
       "    <tr>\n",
       "      <th>1</th>\n",
       "      <td>792189</td>\n",
       "      <td>2017-01-01 00:00:43</td>\n",
       "      <td>None</td>\n",
       "      <td>Bullish</td>\n",
       "    </tr>\n",
       "    <tr>\n",
       "      <th>2</th>\n",
       "      <td>632501</td>\n",
       "      <td>2017-01-01 00:01:43</td>\n",
       "      <td>ICLD</td>\n",
       "      <td>Bearish</td>\n",
       "    </tr>\n",
       "    <tr>\n",
       "      <th>3</th>\n",
       "      <td>890926</td>\n",
       "      <td>2017-01-01 00:02:47</td>\n",
       "      <td>HRTX</td>\n",
       "      <td>Bullish</td>\n",
       "    </tr>\n",
       "    <tr>\n",
       "      <th>4</th>\n",
       "      <td>688919</td>\n",
       "      <td>2017-01-01 00:04:31</td>\n",
       "      <td>None</td>\n",
       "      <td>Bullish</td>\n",
       "    </tr>\n",
       "    <tr>\n",
       "      <th>5</th>\n",
       "      <td>892142</td>\n",
       "      <td>2017-01-01 00:05:28</td>\n",
       "      <td>None</td>\n",
       "      <td>Bullish</td>\n",
       "    </tr>\n",
       "    <tr>\n",
       "      <th>6</th>\n",
       "      <td>724935</td>\n",
       "      <td>2017-01-01 00:06:13</td>\n",
       "      <td>None</td>\n",
       "      <td>Bullish</td>\n",
       "    </tr>\n",
       "    <tr>\n",
       "      <th>7</th>\n",
       "      <td>866123</td>\n",
       "      <td>2017-01-01 00:06:21</td>\n",
       "      <td>None</td>\n",
       "      <td>Bullish</td>\n",
       "    </tr>\n",
       "    <tr>\n",
       "      <th>8</th>\n",
       "      <td>634366</td>\n",
       "      <td>2017-01-01 00:07:07</td>\n",
       "      <td>None</td>\n",
       "      <td>Bullish</td>\n",
       "    </tr>\n",
       "    <tr>\n",
       "      <th>9</th>\n",
       "      <td>866123</td>\n",
       "      <td>2017-01-01 00:07:29</td>\n",
       "      <td>None</td>\n",
       "      <td>Bearish</td>\n",
       "    </tr>\n",
       "    <tr>\n",
       "      <th>10</th>\n",
       "      <td>892142</td>\n",
       "      <td>2017-01-01 00:07:50</td>\n",
       "      <td>None</td>\n",
       "      <td>Bullish</td>\n",
       "    </tr>\n",
       "    <tr>\n",
       "      <th>11</th>\n",
       "      <td>661428</td>\n",
       "      <td>2017-01-01 00:07:56</td>\n",
       "      <td>None</td>\n",
       "      <td>Bullish</td>\n",
       "    </tr>\n",
       "    <tr>\n",
       "      <th>12</th>\n",
       "      <td>864648</td>\n",
       "      <td>2017-01-01 00:08:03</td>\n",
       "      <td>None</td>\n",
       "      <td>Bullish</td>\n",
       "    </tr>\n",
       "    <tr>\n",
       "      <th>13</th>\n",
       "      <td>846326</td>\n",
       "      <td>2017-01-01 00:08:40</td>\n",
       "      <td>None</td>\n",
       "      <td>Bullish</td>\n",
       "    </tr>\n",
       "    <tr>\n",
       "      <th>14</th>\n",
       "      <td>907907</td>\n",
       "      <td>2017-01-01 00:08:57</td>\n",
       "      <td>None</td>\n",
       "      <td>Bullish</td>\n",
       "    </tr>\n",
       "    <tr>\n",
       "      <th>15</th>\n",
       "      <td>634366</td>\n",
       "      <td>2017-01-01 00:09:14</td>\n",
       "      <td>None</td>\n",
       "      <td>Bullish</td>\n",
       "    </tr>\n",
       "    <tr>\n",
       "      <th>16</th>\n",
       "      <td>619769</td>\n",
       "      <td>2017-01-01 00:10:22</td>\n",
       "      <td>AAPL</td>\n",
       "      <td>Bullish</td>\n",
       "    </tr>\n",
       "    <tr>\n",
       "      <th>17</th>\n",
       "      <td>634366</td>\n",
       "      <td>2017-01-01 00:11:22</td>\n",
       "      <td>None</td>\n",
       "      <td>Bullish</td>\n",
       "    </tr>\n",
       "    <tr>\n",
       "      <th>18</th>\n",
       "      <td>649558</td>\n",
       "      <td>2017-01-01 00:11:26</td>\n",
       "      <td>NKE</td>\n",
       "      <td>Bearish</td>\n",
       "    </tr>\n",
       "    <tr>\n",
       "      <th>19</th>\n",
       "      <td>619769</td>\n",
       "      <td>2017-01-01 00:11:28</td>\n",
       "      <td>None</td>\n",
       "      <td>Bullish</td>\n",
       "    </tr>\n",
       "    <tr>\n",
       "      <th>20</th>\n",
       "      <td>686656</td>\n",
       "      <td>2017-01-01 00:11:29</td>\n",
       "      <td>None</td>\n",
       "      <td>Bullish</td>\n",
       "    </tr>\n",
       "    <tr>\n",
       "      <th>21</th>\n",
       "      <td>246788</td>\n",
       "      <td>2017-01-01 00:11:53</td>\n",
       "      <td>None</td>\n",
       "      <td>Bullish</td>\n",
       "    </tr>\n",
       "    <tr>\n",
       "      <th>22</th>\n",
       "      <td>858123</td>\n",
       "      <td>2017-01-01 00:12:31</td>\n",
       "      <td>None</td>\n",
       "      <td>Bullish</td>\n",
       "    </tr>\n",
       "    <tr>\n",
       "      <th>23</th>\n",
       "      <td>907907</td>\n",
       "      <td>2017-01-01 00:12:47</td>\n",
       "      <td>None</td>\n",
       "      <td>Bullish</td>\n",
       "    </tr>\n",
       "    <tr>\n",
       "      <th>24</th>\n",
       "      <td>550652</td>\n",
       "      <td>2017-01-01 00:12:55</td>\n",
       "      <td>None</td>\n",
       "      <td>Bullish</td>\n",
       "    </tr>\n",
       "    <tr>\n",
       "      <th>25</th>\n",
       "      <td>892142</td>\n",
       "      <td>2017-01-01 00:13:35</td>\n",
       "      <td>MNKD</td>\n",
       "      <td>Bullish</td>\n",
       "    </tr>\n",
       "    <tr>\n",
       "      <th>26</th>\n",
       "      <td>801803</td>\n",
       "      <td>2017-01-01 00:13:35</td>\n",
       "      <td>NVDA</td>\n",
       "      <td>Bearish</td>\n",
       "    </tr>\n",
       "    <tr>\n",
       "      <th>27</th>\n",
       "      <td>550652</td>\n",
       "      <td>2017-01-01 00:13:43</td>\n",
       "      <td>None</td>\n",
       "      <td>Bullish</td>\n",
       "    </tr>\n",
       "    <tr>\n",
       "      <th>28</th>\n",
       "      <td>669678</td>\n",
       "      <td>2017-01-01 00:13:45</td>\n",
       "      <td>AAPL</td>\n",
       "      <td>Bullish</td>\n",
       "    </tr>\n",
       "    <tr>\n",
       "      <th>29</th>\n",
       "      <td>246788</td>\n",
       "      <td>2017-01-01 00:14:02</td>\n",
       "      <td>SGYP</td>\n",
       "      <td>Bullish</td>\n",
       "    </tr>\n",
       "    <tr>\n",
       "      <th>...</th>\n",
       "      <td>...</td>\n",
       "      <td>...</td>\n",
       "      <td>...</td>\n",
       "      <td>...</td>\n",
       "    </tr>\n",
       "    <tr>\n",
       "      <th>70</th>\n",
       "      <td>688443</td>\n",
       "      <td>2017-01-01 00:21:58</td>\n",
       "      <td>ARLZ</td>\n",
       "      <td>Bullish</td>\n",
       "    </tr>\n",
       "    <tr>\n",
       "      <th>71</th>\n",
       "      <td>892106</td>\n",
       "      <td>2017-01-01 00:24:27</td>\n",
       "      <td>None</td>\n",
       "      <td>Bullish</td>\n",
       "    </tr>\n",
       "    <tr>\n",
       "      <th>72</th>\n",
       "      <td>472434</td>\n",
       "      <td>2017-01-01 00:24:38</td>\n",
       "      <td>None</td>\n",
       "      <td>Bullish</td>\n",
       "    </tr>\n",
       "    <tr>\n",
       "      <th>73</th>\n",
       "      <td>823750</td>\n",
       "      <td>2017-01-01 00:24:46</td>\n",
       "      <td>None</td>\n",
       "      <td>Bullish</td>\n",
       "    </tr>\n",
       "    <tr>\n",
       "      <th>74</th>\n",
       "      <td>864648</td>\n",
       "      <td>2017-01-01 00:24:55</td>\n",
       "      <td>AMD</td>\n",
       "      <td>Bullish</td>\n",
       "    </tr>\n",
       "    <tr>\n",
       "      <th>75</th>\n",
       "      <td>769061</td>\n",
       "      <td>2017-01-01 00:25:05</td>\n",
       "      <td>DEPO</td>\n",
       "      <td>Bullish</td>\n",
       "    </tr>\n",
       "    <tr>\n",
       "      <th>76</th>\n",
       "      <td>769061</td>\n",
       "      <td>2017-01-01 00:25:05</td>\n",
       "      <td>PRGO</td>\n",
       "      <td>Bullish</td>\n",
       "    </tr>\n",
       "    <tr>\n",
       "      <th>77</th>\n",
       "      <td>211320</td>\n",
       "      <td>2017-01-01 00:25:12</td>\n",
       "      <td>UAL</td>\n",
       "      <td>Bearish</td>\n",
       "    </tr>\n",
       "    <tr>\n",
       "      <th>78</th>\n",
       "      <td>248982</td>\n",
       "      <td>2017-01-01 00:25:49</td>\n",
       "      <td>None</td>\n",
       "      <td>Bullish</td>\n",
       "    </tr>\n",
       "    <tr>\n",
       "      <th>79</th>\n",
       "      <td>769061</td>\n",
       "      <td>2017-01-01 00:27:14</td>\n",
       "      <td>DEPO</td>\n",
       "      <td>Bullish</td>\n",
       "    </tr>\n",
       "    <tr>\n",
       "      <th>80</th>\n",
       "      <td>896270</td>\n",
       "      <td>2017-01-01 00:27:44</td>\n",
       "      <td>IMNP</td>\n",
       "      <td>Bullish</td>\n",
       "    </tr>\n",
       "    <tr>\n",
       "      <th>81</th>\n",
       "      <td>688443</td>\n",
       "      <td>2017-01-01 00:27:53</td>\n",
       "      <td>TWTR</td>\n",
       "      <td>Bullish</td>\n",
       "    </tr>\n",
       "    <tr>\n",
       "      <th>82</th>\n",
       "      <td>847847</td>\n",
       "      <td>2017-01-01 00:27:55</td>\n",
       "      <td>None</td>\n",
       "      <td>Bullish</td>\n",
       "    </tr>\n",
       "    <tr>\n",
       "      <th>83</th>\n",
       "      <td>873690</td>\n",
       "      <td>2017-01-01 00:28:17</td>\n",
       "      <td>SPHS</td>\n",
       "      <td>Bullish</td>\n",
       "    </tr>\n",
       "    <tr>\n",
       "      <th>84</th>\n",
       "      <td>873690</td>\n",
       "      <td>2017-01-01 00:28:17</td>\n",
       "      <td>RLYP</td>\n",
       "      <td>Bullish</td>\n",
       "    </tr>\n",
       "    <tr>\n",
       "      <th>85</th>\n",
       "      <td>777037</td>\n",
       "      <td>2017-01-01 00:30:39</td>\n",
       "      <td>None</td>\n",
       "      <td>Bullish</td>\n",
       "    </tr>\n",
       "    <tr>\n",
       "      <th>86</th>\n",
       "      <td>901981</td>\n",
       "      <td>2017-01-01 00:31:09</td>\n",
       "      <td>AMD</td>\n",
       "      <td>Bearish</td>\n",
       "    </tr>\n",
       "    <tr>\n",
       "      <th>87</th>\n",
       "      <td>709852</td>\n",
       "      <td>2017-01-01 00:31:21</td>\n",
       "      <td>GPRO</td>\n",
       "      <td>Bullish</td>\n",
       "    </tr>\n",
       "    <tr>\n",
       "      <th>88</th>\n",
       "      <td>807223</td>\n",
       "      <td>2017-01-01 00:31:36</td>\n",
       "      <td>WCST</td>\n",
       "      <td>Bearish</td>\n",
       "    </tr>\n",
       "    <tr>\n",
       "      <th>89</th>\n",
       "      <td>807223</td>\n",
       "      <td>2017-01-01 00:31:41</td>\n",
       "      <td>WCST</td>\n",
       "      <td>Bearish</td>\n",
       "    </tr>\n",
       "    <tr>\n",
       "      <th>90</th>\n",
       "      <td>807223</td>\n",
       "      <td>2017-01-01 00:31:43</td>\n",
       "      <td>WCST</td>\n",
       "      <td>Bearish</td>\n",
       "    </tr>\n",
       "    <tr>\n",
       "      <th>91</th>\n",
       "      <td>807223</td>\n",
       "      <td>2017-01-01 00:31:50</td>\n",
       "      <td>WCST</td>\n",
       "      <td>Bearish</td>\n",
       "    </tr>\n",
       "    <tr>\n",
       "      <th>92</th>\n",
       "      <td>712122</td>\n",
       "      <td>2017-01-01 00:31:57</td>\n",
       "      <td>SGYP</td>\n",
       "      <td>Bullish</td>\n",
       "    </tr>\n",
       "    <tr>\n",
       "      <th>93</th>\n",
       "      <td>892106</td>\n",
       "      <td>2017-01-01 00:32:21</td>\n",
       "      <td>None</td>\n",
       "      <td>Bullish</td>\n",
       "    </tr>\n",
       "    <tr>\n",
       "      <th>94</th>\n",
       "      <td>45614</td>\n",
       "      <td>2017-01-01 00:32:34</td>\n",
       "      <td>AAPL</td>\n",
       "      <td>Bearish</td>\n",
       "    </tr>\n",
       "    <tr>\n",
       "      <th>95</th>\n",
       "      <td>323582</td>\n",
       "      <td>2017-01-01 00:32:39</td>\n",
       "      <td>None</td>\n",
       "      <td>Bullish</td>\n",
       "    </tr>\n",
       "    <tr>\n",
       "      <th>96</th>\n",
       "      <td>740511</td>\n",
       "      <td>2017-01-01 00:33:14</td>\n",
       "      <td>MTW</td>\n",
       "      <td>Bullish</td>\n",
       "    </tr>\n",
       "    <tr>\n",
       "      <th>97</th>\n",
       "      <td>45614</td>\n",
       "      <td>2017-01-01 00:33:53</td>\n",
       "      <td>None</td>\n",
       "      <td>Bearish</td>\n",
       "    </tr>\n",
       "    <tr>\n",
       "      <th>98</th>\n",
       "      <td>900439</td>\n",
       "      <td>2017-01-01 00:34:17</td>\n",
       "      <td>None</td>\n",
       "      <td>Bullish</td>\n",
       "    </tr>\n",
       "    <tr>\n",
       "      <th>99</th>\n",
       "      <td>894886</td>\n",
       "      <td>2017-01-01 00:34:59</td>\n",
       "      <td>None</td>\n",
       "      <td>Bullish</td>\n",
       "    </tr>\n",
       "  </tbody>\n",
       "</table>\n",
       "<p>100 rows × 4 columns</p>\n",
       "</div>"
      ],
      "text/plain": [
       "    user_id          created_at symbol sentiment\n",
       "0    900446 2017-01-01 00:00:15   None   Bullish\n",
       "1    792189 2017-01-01 00:00:43   None   Bullish\n",
       "2    632501 2017-01-01 00:01:43   ICLD   Bearish\n",
       "3    890926 2017-01-01 00:02:47   HRTX   Bullish\n",
       "4    688919 2017-01-01 00:04:31   None   Bullish\n",
       "5    892142 2017-01-01 00:05:28   None   Bullish\n",
       "6    724935 2017-01-01 00:06:13   None   Bullish\n",
       "7    866123 2017-01-01 00:06:21   None   Bullish\n",
       "8    634366 2017-01-01 00:07:07   None   Bullish\n",
       "9    866123 2017-01-01 00:07:29   None   Bearish\n",
       "10   892142 2017-01-01 00:07:50   None   Bullish\n",
       "11   661428 2017-01-01 00:07:56   None   Bullish\n",
       "12   864648 2017-01-01 00:08:03   None   Bullish\n",
       "13   846326 2017-01-01 00:08:40   None   Bullish\n",
       "14   907907 2017-01-01 00:08:57   None   Bullish\n",
       "15   634366 2017-01-01 00:09:14   None   Bullish\n",
       "16   619769 2017-01-01 00:10:22   AAPL   Bullish\n",
       "17   634366 2017-01-01 00:11:22   None   Bullish\n",
       "18   649558 2017-01-01 00:11:26    NKE   Bearish\n",
       "19   619769 2017-01-01 00:11:28   None   Bullish\n",
       "20   686656 2017-01-01 00:11:29   None   Bullish\n",
       "21   246788 2017-01-01 00:11:53   None   Bullish\n",
       "22   858123 2017-01-01 00:12:31   None   Bullish\n",
       "23   907907 2017-01-01 00:12:47   None   Bullish\n",
       "24   550652 2017-01-01 00:12:55   None   Bullish\n",
       "25   892142 2017-01-01 00:13:35   MNKD   Bullish\n",
       "26   801803 2017-01-01 00:13:35   NVDA   Bearish\n",
       "27   550652 2017-01-01 00:13:43   None   Bullish\n",
       "28   669678 2017-01-01 00:13:45   AAPL   Bullish\n",
       "29   246788 2017-01-01 00:14:02   SGYP   Bullish\n",
       "..      ...                 ...    ...       ...\n",
       "70   688443 2017-01-01 00:21:58   ARLZ   Bullish\n",
       "71   892106 2017-01-01 00:24:27   None   Bullish\n",
       "72   472434 2017-01-01 00:24:38   None   Bullish\n",
       "73   823750 2017-01-01 00:24:46   None   Bullish\n",
       "74   864648 2017-01-01 00:24:55    AMD   Bullish\n",
       "75   769061 2017-01-01 00:25:05   DEPO   Bullish\n",
       "76   769061 2017-01-01 00:25:05   PRGO   Bullish\n",
       "77   211320 2017-01-01 00:25:12    UAL   Bearish\n",
       "78   248982 2017-01-01 00:25:49   None   Bullish\n",
       "79   769061 2017-01-01 00:27:14   DEPO   Bullish\n",
       "80   896270 2017-01-01 00:27:44   IMNP   Bullish\n",
       "81   688443 2017-01-01 00:27:53   TWTR   Bullish\n",
       "82   847847 2017-01-01 00:27:55   None   Bullish\n",
       "83   873690 2017-01-01 00:28:17   SPHS   Bullish\n",
       "84   873690 2017-01-01 00:28:17   RLYP   Bullish\n",
       "85   777037 2017-01-01 00:30:39   None   Bullish\n",
       "86   901981 2017-01-01 00:31:09    AMD   Bearish\n",
       "87   709852 2017-01-01 00:31:21   GPRO   Bullish\n",
       "88   807223 2017-01-01 00:31:36   WCST   Bearish\n",
       "89   807223 2017-01-01 00:31:41   WCST   Bearish\n",
       "90   807223 2017-01-01 00:31:43   WCST   Bearish\n",
       "91   807223 2017-01-01 00:31:50   WCST   Bearish\n",
       "92   712122 2017-01-01 00:31:57   SGYP   Bullish\n",
       "93   892106 2017-01-01 00:32:21   None   Bullish\n",
       "94    45614 2017-01-01 00:32:34   AAPL   Bearish\n",
       "95   323582 2017-01-01 00:32:39   None   Bullish\n",
       "96   740511 2017-01-01 00:33:14    MTW   Bullish\n",
       "97    45614 2017-01-01 00:33:53   None   Bearish\n",
       "98   900439 2017-01-01 00:34:17   None   Bullish\n",
       "99   894886 2017-01-01 00:34:59   None   Bullish\n",
       "\n",
       "[100 rows x 4 columns]"
      ]
     },
     "execution_count": 198,
     "metadata": {},
     "output_type": "execute_result"
    }
   ],
   "source": [
    "stocktwit_df.head(100)"
   ]
  },
  {
   "cell_type": "code",
   "execution_count": 187,
   "metadata": {
    "collapsed": false
   },
   "outputs": [
    {
     "data": {
      "text/plain": [
       "Bullish    612\n",
       "Bearish    213\n",
       "Name: sentiment, dtype: int64"
      ]
     },
     "execution_count": 187,
     "metadata": {},
     "output_type": "execute_result"
    }
   ],
   "source": [
    "#See if there is any sentiment with UAA in 2017_01\n",
    "stocktwit_df[stocktwit_df['symbol']=='UAA']['sentiment'].value_counts()"
   ]
  },
  {
   "cell_type": "code",
   "execution_count": null,
   "metadata": {
    "collapsed": true
   },
   "outputs": [],
   "source": []
  },
  {
   "cell_type": "code",
   "execution_count": null,
   "metadata": {
    "collapsed": true
   },
   "outputs": [],
   "source": []
  },
  {
   "cell_type": "code",
   "execution_count": 43,
   "metadata": {
    "collapsed": false
   },
   "outputs": [
    {
     "data": {
      "text/plain": [
       "'@SuccessfultraderJNUGis29'"
      ]
     },
     "execution_count": 43,
     "metadata": {},
     "output_type": "execute_result"
    }
   ],
   "source": [
    "#ijson can also work, if there is a very big json file!\n",
    "import ijson\n",
    "\n",
    "filename = \"test.json\"\n",
    "with open(filename, 'r') as f:\n",
    "    objects = ijson.items(f, 'data.mentioned_users')\n",
    "    columns = list(objects)\n",
    "columns[0][1]"
   ]
  },
  {
   "cell_type": "markdown",
   "metadata": {},
   "source": [
    "# Legacy_Message Format"
   ]
  },
  {
   "cell_type": "code",
   "execution_count": 85,
   "metadata": {
    "collapsed": false
   },
   "outputs": [
    {
     "name": "stdout",
     "output_type": "stream",
     "text": [
      "firehose_seq:  2135426\n",
      "actor:  {'objectType': 'person', 'followersCount': 448, 'classification': [], 'preferredUsername': 'insidersense', 'followingCount': 572, 'image': 'http://avatars.stocktwits.com/production/629164/thumb-1454020760.png', 'summary': '#1 insider newsletter, avg return +18%. Subscribe for free at our website. #1 source for insider info Canada/US. Trusted by 5k members. Don&#39;t follow the forecast. #FollowTheFacts', 'followingStocksCount': 0, 'statusesCount': 19420, 'displayName': 'insidersense', 'id': 'person:stocktwits:629164', 'tradingStrategy': {'holdingPeriod': None, 'assetsFrequentlyTraded': ['Equities', 'Options'], 'experience': None, 'approach': None}, 'link': 'http://stocktwits.com/insidersense', 'links': [{'href': 'https://insidersense.com', 'rel': 'me'}]}\n",
      "entities:  {'sentiment': None, 'chart': None, 'symbols': [{'stocktwits_id': 6387, 'price': 162.57, 'exchange': 'NYSE', 'sector': 'Financial', 'symbol': 'MTB', 'displayName': 'M&T Bank Corp.', 'trending': False, 'industry': 'Regional - Northeast Banks', 'watchers': 178}], 'video': None}\n",
      "id:  tag:firehose.stocktwits.com:note/73207610\n",
      "link:  http://stocktwits.com/insidersense/message/73207610\n",
      "verb:  post\n",
      "object:  {'objectType': 'note', 'updatedTime': '2017-02-01T00:00:00Z', 'id': 'note:stocktwits:73207610', 'link': 'http://stocktwits.com/insidersense/message/73207610', 'postedTime': '2017-02-01T00:00:00Z', 'summary': 'Insider Selling in $MTB. Jones Rene F sells $209k - Avg price of $163.25. Learn more at https://insidersense.com. Free insider newsletter'}\n",
      "body:  Insider Selling in $MTB. Jones Rene F sells $209k - Avg price of $163.25. Learn more at https://insidersense.com. Free insider newsletter\n",
      "provider:  {'link': 'http://stocktwits.com', 'displayName': 'StockTwits'}\n"
     ]
    }
   ],
   "source": [
    "#legacy_Message format\n",
    "#stocktwits_legacy_messages_2017_02 \n",
    "i=0\n",
    "with open(pwd+'/stocktwits_legacy_messages_2017_02', encoding='utf-8', mode='r') as f:\n",
    "    for line in iter(f):\n",
    "        json_data = json.loads(line)\n",
    "        for k in json_data.keys():\n",
    "            print(k + ': ', json_data[k])\n",
    "        i+=1\n",
    "        if (i>0):\n",
    "            break"
   ]
  },
  {
   "cell_type": "markdown",
   "metadata": {},
   "source": [
    "# Activity Format"
   ]
  },
  {
   "cell_type": "code",
   "execution_count": 40,
   "metadata": {
    "collapsed": false
   },
   "outputs": [
    {
     "name": "stdout",
     "output_type": "stream",
     "text": [
      "data:  {'liked_user_id': 846847, 'user_id': 601766, 'created_at': '2017-02-01T00:00:02Z', 'id': 27105281, 'message_id': 73207366}\n",
      "time:  2017-02-01T00:00:02Z\n",
      "action:  create\n",
      "object:  LikeMessage\n"
     ]
    }
   ],
   "source": [
    "# Activity Format\n",
    "i=0\n",
    "with open(pwd+'/stocktwits_activity_2017_02', encoding='utf-8', mode='r') as f:\n",
    "    for line in iter(f):\n",
    "        json_data = json.loads(line)\n",
    "        for k in json_data.keys():\n",
    "            print(k + ': ', json_data[k])\n",
    "        i+=1\n",
    "        if (i>0):\n",
    "            break"
   ]
  },
  {
   "cell_type": "code",
   "execution_count": null,
   "metadata": {
    "collapsed": true
   },
   "outputs": [],
   "source": []
  }
 ],
 "metadata": {
  "kernelspec": {
   "display_name": "Python 3",
   "language": "python",
   "name": "python3"
  },
  "language_info": {
   "codemirror_mode": {
    "name": "ipython",
    "version": 3
   },
   "file_extension": ".py",
   "mimetype": "text/x-python",
   "name": "python",
   "nbconvert_exporter": "python",
   "pygments_lexer": "ipython3",
   "version": "3.5.2"
  }
 },
 "nbformat": 4,
 "nbformat_minor": 2
}
